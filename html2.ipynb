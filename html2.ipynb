{
 "cells": [
  {
   "cell_type": "code",
   "execution_count": 1,
   "id": "74e7a9f4-f560-4566-9c15-f89b4b44b172",
   "metadata": {},
   "outputs": [
    {
     "data": {
      "text/plain": [
       "'\\nQ1- what is the difference between UI and UX? Explain in your own words.\\n'"
      ]
     },
     "execution_count": 1,
     "metadata": {},
     "output_type": "execute_result"
    }
   ],
   "source": [
    "\"\"\"\n",
    "Q1- what is the difference between UI and UX? Explain in your own words.\n",
    "\"\"\""
   ]
  },
  {
   "cell_type": "code",
   "execution_count": 2,
   "id": "1d83b059-2d5f-439e-8bf4-9857d7dd481b",
   "metadata": {},
   "outputs": [
    {
     "data": {
      "text/plain": [
       "'\\nans-UI refers to the screens, buttons, toggles, icons, and other visual elements that you interact with when using a website, app, or other electronic device. UX refers to the entire interaction you have with a product, including how you feel about the interaction.\\n'"
      ]
     },
     "execution_count": 2,
     "metadata": {},
     "output_type": "execute_result"
    }
   ],
   "source": [
    "\"\"\"\n",
    "ans-UI refers to the screens, buttons, toggles, icons, and other visual elements that you interact with when using a website, app, or other electronic device. UX refers to the entire interaction you have with a product, including how you feel about the interaction.\n",
    "\"\"\""
   ]
  },
  {
   "cell_type": "code",
   "execution_count": 3,
   "id": "6deeef52-e9fa-4b07-b425-71e6c9d969ae",
   "metadata": {},
   "outputs": [
    {
     "data": {
      "text/plain": [
       "'\\nQ2- who is a frontend developer? Explain the roles and responsibilities in your own words.\\n'"
      ]
     },
     "execution_count": 3,
     "metadata": {},
     "output_type": "execute_result"
    }
   ],
   "source": [
    "\"\"\"\n",
    "Q2- who is a frontend developer? Explain the roles and responsibilities in your own words.\n",
    "\"\"\"\n"
   ]
  },
  {
   "cell_type": "code",
   "execution_count": 4,
   "id": "c2f4cb8e-8599-4c6a-aa94-4e238db08576",
   "metadata": {},
   "outputs": [
    {
     "data": {
      "text/plain": [
       "'\\nans-A front-end developer creates websites and applications using web languages such as HTML, CSS, and JavaScript that allow users to access and interact with the site or app.\\n    Responsibilities\\n     -Use markup languages like HTML to create user-friendly web pages.\\n     -Maintain and improve website.\\n     -Optimize applications for maximum speed.\\n     -Design mobile-based features.\\n     -Collaborate with back-end developers and web designers to improve usability.\\n     -Get feedback from, and build solutions for, users and customers.\\n\\n'"
      ]
     },
     "execution_count": 4,
     "metadata": {},
     "output_type": "execute_result"
    }
   ],
   "source": [
    "\"\"\"\n",
    "ans-A front-end developer creates websites and applications using web languages such as HTML, CSS, and JavaScript that allow users to access and interact with the site or app.\n",
    "    Responsibilities\n",
    "     -Use markup languages like HTML to create user-friendly web pages.\n",
    "     -Maintain and improve website.\n",
    "     -Optimize applications for maximum speed.\n",
    "     -Design mobile-based features.\n",
    "     -Collaborate with back-end developers and web designers to improve usability.\n",
    "     -Get feedback from, and build solutions for, users and customers.\n",
    "\n",
    "\"\"\"\n"
   ]
  },
  {
   "cell_type": "code",
   "execution_count": 5,
   "id": "65d3fafb-9465-4e1f-b546-af1b5c7b3eb8",
   "metadata": {},
   "outputs": [
    {
     "data": {
      "text/plain": [
       "'\\nQ3-who is a backend developer? Explain the roles and responsibilities in your own words.\\n'"
      ]
     },
     "execution_count": 5,
     "metadata": {},
     "output_type": "execute_result"
    }
   ],
   "source": [
    "\"\"\"\n",
    "Q3-who is a backend developer? Explain the roles and responsibilities in your own words.\n",
    "\"\"\""
   ]
  },
  {
   "cell_type": "code",
   "execution_count": 6,
   "id": "cc429e94-e214-4c66-856f-0c6a74e87f70",
   "metadata": {},
   "outputs": [
    {
     "data": {
      "text/plain": [
       "'\\nans- Back-end developers are the experts who build and maintain the mechanisms that process data and perform actions on websites. Unlike front-end developers, who control everything you can see on a website, back-end developers are involved in data storage, security, and other server-side functions that you cannot see\\n'"
      ]
     },
     "execution_count": 6,
     "metadata": {},
     "output_type": "execute_result"
    }
   ],
   "source": [
    "\"\"\"\n",
    "ans- Back-end developers are the experts who build and maintain the mechanisms that process data and perform actions on websites. Unlike front-end developers, who control everything you can see on a website, back-end developers are involved in data storage, security, and other server-side functions that you cannot see\n",
    "\"\"\""
   ]
  },
  {
   "cell_type": "code",
   "execution_count": 7,
   "id": "fda271fd-4494-4ae3-8f57-c27a65751b37",
   "metadata": {},
   "outputs": [
    {
     "data": {
      "text/plain": [
       "'\\nQ4-Create your own GitHub & LinkedIn accounts. share the screenshot of both of your accounts and\\nshare your profile links of GitHub & LinkedIn in the solution.\\n'"
      ]
     },
     "execution_count": 7,
     "metadata": {},
     "output_type": "execute_result"
    }
   ],
   "source": [
    "\"\"\"\n",
    "Q4-Create your own GitHub & LinkedIn accounts. share the screenshot of both of your accounts and\n",
    "share your profile links of GitHub & LinkedIn in the solution.\n",
    "\"\"\""
   ]
  },
  {
   "cell_type": "code",
   "execution_count": 8,
   "id": "b7f78335-28d0-4ab7-a75b-4c4abdf02f58",
   "metadata": {},
   "outputs": [
    {
     "data": {
      "text/plain": [
       "'\\nans- github ss = https://green-chef-sazzl.pwskills.app/files/work/Screenshot%20(24).png?_xsrf=2%7C7278d809%7C4119f49443a916341d3cee314247d712%7C1681445584\\n     linkedin ss=https://green-chef-sazzl.pwskills.app/files/work/Screenshot%20(25).png?_xsrf=2%7C7278d809%7C4119f49443a916341d3cee314247d712%7C1681445584\\n     github=https://github.com/UpasanaMohapatra8260\\n     limkedin=https://www.linkedin.com/in/upasana-mohapatra-509627234/\\n'"
      ]
     },
     "execution_count": 8,
     "metadata": {},
     "output_type": "execute_result"
    }
   ],
   "source": [
    "\"\"\"\n",
    "ans- github ss = https://green-chef-sazzl.pwskills.app/files/work/Screenshot%20(24).png?_xsrf=2%7C7278d809%7C4119f49443a916341d3cee314247d712%7C1681445584\n",
    "     linkedin ss=https://green-chef-sazzl.pwskills.app/files/work/Screenshot%20(25).png?_xsrf=2%7C7278d809%7C4119f49443a916341d3cee314247d712%7C1681445584\n",
    "     github=https://github.com/UpasanaMohapatra8260\n",
    "     limkedin=https://www.linkedin.com/in/upasana-mohapatra-509627234/\n",
    "\"\"\""
   ]
  },
  {
   "cell_type": "code",
   "execution_count": null,
   "id": "d1a15261-5d15-422f-8942-c8ddbcf15342",
   "metadata": {},
   "outputs": [],
   "source": []
  }
 ],
 "metadata": {
  "kernelspec": {
   "display_name": "Python 3 (ipykernel)",
   "language": "python",
   "name": "python3"
  },
  "language_info": {
   "codemirror_mode": {
    "name": "ipython",
    "version": 3
   },
   "file_extension": ".py",
   "mimetype": "text/x-python",
   "name": "python",
   "nbconvert_exporter": "python",
   "pygments_lexer": "ipython3",
   "version": "3.10.8"
  }
 },
 "nbformat": 4,
 "nbformat_minor": 5
}
