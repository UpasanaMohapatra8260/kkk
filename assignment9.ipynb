{
 "cells": [
  {
   "cell_type": "code",
   "execution_count": 1,
   "id": "33a16216-906f-4d48-9d43-d73bd7166096",
   "metadata": {},
   "outputs": [
    {
     "data": {
      "text/plain": [
       "'\\nQ1 - \" What are the new things introduced in HTML?\\n'"
      ]
     },
     "execution_count": 1,
     "metadata": {},
     "output_type": "execute_result"
    }
   ],
   "source": [
    "\"\"\"\n",
    "Q1 - \" What are the new things introduced in HTML?\n",
    "\"\"\""
   ]
  },
  {
   "cell_type": "code",
   "execution_count": 2,
   "id": "a65f40a1-4a29-4af9-a006-4f5498757b29",
   "metadata": {},
   "outputs": [
    {
     "data": {
      "text/plain": [
       "'\\nANS - semantic tags were introduced to html.\\n'"
      ]
     },
     "execution_count": 2,
     "metadata": {},
     "output_type": "execute_result"
    }
   ],
   "source": [
    "\"\"\"\n",
    "ANS - semantic tags were introduced to html.\n",
    "\"\"\""
   ]
  },
  {
   "cell_type": "code",
   "execution_count": 4,
   "id": "7d57bcb3-bcfc-455c-9770-e887697bbed1",
   "metadata": {},
   "outputs": [
    {
     "data": {
      "text/plain": [
       "'\\nQ2 - What are semantic tags? Give a couple of examples\"\\n'"
      ]
     },
     "execution_count": 4,
     "metadata": {},
     "output_type": "execute_result"
    }
   ],
   "source": [
    "\"\"\"\n",
    "Q2 - What are semantic tags? Give a couple of examples\"\n",
    "\"\"\""
   ]
  },
  {
   "cell_type": "code",
   "execution_count": 5,
   "id": "c9bf8d11-3321-4917-b532-63da9911a93e",
   "metadata": {},
   "outputs": [
    {
     "data": {
      "text/plain": [
       "'\\nans - The semantic HTML tags help the search engines and other user devices to determine the importance and context of web pages. The pages made with semantic elements are much easier to read. It has greater accessibility. It offers a better user experience.\\n'"
      ]
     },
     "execution_count": 5,
     "metadata": {},
     "output_type": "execute_result"
    }
   ],
   "source": [
    "\"\"\"\n",
    "ans - The semantic HTML tags help the search engines and other user devices to determine the importance and context of web pages. The pages made with semantic elements are much easier to read. It has greater accessibility. It offers a better user experience.\n",
    "\"\"\""
   ]
  },
  {
   "cell_type": "code",
   "execution_count": 6,
   "id": "92485448-3f00-46f5-bf7c-50dc5d4fd63d",
   "metadata": {},
   "outputs": [
    {
     "data": {
      "text/plain": [
       "'\\nQ3 - List some uses of semantic tags.\\n'"
      ]
     },
     "execution_count": 6,
     "metadata": {},
     "output_type": "execute_result"
    }
   ],
   "source": [
    "\"\"\"\n",
    "Q3 - List some uses of semantic tags.\n",
    "\"\"\""
   ]
  },
  {
   "cell_type": "code",
   "execution_count": 8,
   "id": "059d8741-2cc5-47e5-b647-2accbbff6375",
   "metadata": {},
   "outputs": [
    {
     "data": {
      "text/plain": [
       "'\\nans - The are several advantages of using semantics tags in HTML:\\n     -The semantic HTML tags help the search engines and other user devices to determine the importance and context of web pages.\\n     -The pages made with semantic elements are much easier to read.\\n     -It has greater accessibility. It offers a better user experience.\\n'"
      ]
     },
     "execution_count": 8,
     "metadata": {},
     "output_type": "execute_result"
    }
   ],
   "source": [
    "\"\"\"\n",
    "ans - The are several advantages of using semantics tags in HTML:\n",
    "     -The semantic HTML tags help the search engines and other user devices to determine the importance and context of web pages.\n",
    "     -The pages made with semantic elements are much easier to read.\n",
    "     -It has greater accessibility. It offers a better user experience.\n",
    "\"\"\""
   ]
  }
 ],
 "metadata": {
  "kernelspec": {
   "display_name": "Python 3 (ipykernel)",
   "language": "python",
   "name": "python3"
  },
  "language_info": {
   "codemirror_mode": {
    "name": "ipython",
    "version": 3
   },
   "file_extension": ".py",
   "mimetype": "text/x-python",
   "name": "python",
   "nbconvert_exporter": "python",
   "pygments_lexer": "ipython3",
   "version": "3.10.8"
  }
 },
 "nbformat": 4,
 "nbformat_minor": 5
}
