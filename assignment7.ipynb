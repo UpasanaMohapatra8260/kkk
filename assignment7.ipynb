{
 "cells": [
  {
   "cell_type": "code",
   "execution_count": 1,
   "id": "ce331d3c-73f3-4663-bed8-370c06f6bcf0",
   "metadata": {},
   "outputs": [
    {
     "data": {
      "text/plain": [
       "'\\nWhat are inline and block elements in HTML and the difference between them ?name a few inline\\nelements and block elements?\\n'"
      ]
     },
     "execution_count": 1,
     "metadata": {},
     "output_type": "execute_result"
    }
   ],
   "source": [
    "\"\"\"\n",
    "Q1 - What are inline and block elements in HTML and the difference between them ?name a few inline\n",
    "elements and block elements?\n",
    "\"\"\""
   ]
  },
  {
   "cell_type": "code",
   "execution_count": 2,
   "id": "ffd929e9-a800-43e4-9177-f437965b5303",
   "metadata": {},
   "outputs": [
    {
     "data": {
      "text/plain": [
       "'\\nans - Inline elements never start from a new line. Block elements cover space from left to right as far as it can go. Inline elements only cover the space as bounded by the tags in the HTML element. Block elements have top and bottom margins\\n      HTML Tags.\\nTag\\tDescription\\n*<div> - Defines a section in a document (block-level)\\n*<span> - Defines a section in a document (inline)\\n\\n'"
      ]
     },
     "execution_count": 2,
     "metadata": {},
     "output_type": "execute_result"
    }
   ],
   "source": [
    "\"\"\"\n",
    "ans - Inline elements never start from a new line. Block elements cover space from left to right as far as it can go. Inline elements only cover the space as bounded by the tags in the HTML element. Block elements have top and bottom margins\n",
    "      HTML Tags.\n",
    "Tag\tDescription\n",
    "*<div> - Defines a section in a document (block-level)\n",
    "*<span> - Defines a section in a document (inline)\n",
    "\n",
    "\"\"\""
   ]
  },
  {
   "cell_type": "code",
   "execution_count": 3,
   "id": "a065aeed-dad3-40e7-82ff-40317d7b6a91",
   "metadata": {},
   "outputs": [
    {
     "data": {
      "text/plain": [
       "'\\nQ2 - How to create lists in HTML?\\n'"
      ]
     },
     "execution_count": 3,
     "metadata": {},
     "output_type": "execute_result"
    }
   ],
   "source": [
    "\"\"\"\n",
    "Q2 - How to create lists in HTML?\n",
    "\"\"\""
   ]
  },
  {
   "cell_type": "code",
   "execution_count": 4,
   "id": "3763a03d-3a89-4955-bf21-bfd09351904e",
   "metadata": {},
   "outputs": [
    {
     "data": {
      "text/plain": [
       "'\\nans - <ul> − An unordered list. This will list items using plain bullets.\\n<ol> − An ordered list. This will use different schemes of numbers to list your items.\\n<dl> − A definition list. This arranges your items in the same way as they are arranged in a dictionary.\\n'"
      ]
     },
     "execution_count": 4,
     "metadata": {},
     "output_type": "execute_result"
    }
   ],
   "source": [
    "\"\"\"\n",
    "ans - <ul> − An unordered list. This will list items using plain bullets.\n",
    "<ol> − An ordered list. This will use different schemes of numbers to list your items.\n",
    "<dl> − A definition list. This arranges your items in the same way as they are arranged in a dictionary.\n",
    "\"\"\""
   ]
  },
  {
   "cell_type": "code",
   "execution_count": 5,
   "id": "92c7aaf6-7cbe-4c3f-a19a-4a71c3ee7950",
   "metadata": {},
   "outputs": [
    {
     "data": {
      "text/plain": [
       "'\\nQ3 - How to interlink webpages and navigate people to other websites\\n'"
      ]
     },
     "execution_count": 5,
     "metadata": {},
     "output_type": "execute_result"
    }
   ],
   "source": [
    "\"\"\"\n",
    "Q3 - How to interlink webpages and navigate people to other websites\n",
    "\"\"\"\n"
   ]
  },
  {
   "cell_type": "code",
   "execution_count": 6,
   "id": "ba9750b6-8c1c-4898-8a89-e03e6cf55b3d",
   "metadata": {},
   "outputs": [
    {
     "data": {
      "text/plain": [
       "'\\nans - Linking to other Web Pages. Linking in HTML code is done with the anchor tag, the <A> tag. The letter \"A\" in the tag is then followed by an attribute. For a link to another web page, the \"A\" is followed by \"HREF\"\\n'"
      ]
     },
     "execution_count": 6,
     "metadata": {},
     "output_type": "execute_result"
    }
   ],
   "source": [
    "\"\"\"\n",
    "ans - Linking to other Web Pages. Linking in HTML code is done with the anchor tag, the <A> tag. The letter \"A\" in the tag is then followed by an attribute. For a link to another web page, the \"A\" is followed by \"HREF\"\n",
    "\"\"\""
   ]
  },
  {
   "cell_type": "code",
   "execution_count": null,
   "id": "d997e7b2-5c09-4be1-8223-b5d7ff122d45",
   "metadata": {},
   "outputs": [],
   "source": []
  }
 ],
 "metadata": {
  "kernelspec": {
   "display_name": "Python 3 (ipykernel)",
   "language": "python",
   "name": "python3"
  },
  "language_info": {
   "codemirror_mode": {
    "name": "ipython",
    "version": 3
   },
   "file_extension": ".py",
   "mimetype": "text/x-python",
   "name": "python",
   "nbconvert_exporter": "python",
   "pygments_lexer": "ipython3",
   "version": "3.10.8"
  }
 },
 "nbformat": 4,
 "nbformat_minor": 5
}
