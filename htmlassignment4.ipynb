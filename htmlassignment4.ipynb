{
 "cells": [
  {
   "cell_type": "code",
   "execution_count": 1,
   "id": "3208d68f-15da-4adf-a6f5-a0a1b11212f4",
   "metadata": {},
   "outputs": [
    {
     "data": {
      "text/plain": [
       "'\\nQ1 - List all the tools you might use as web developer\\n'"
      ]
     },
     "execution_count": 1,
     "metadata": {},
     "output_type": "execute_result"
    }
   ],
   "source": [
    "\"\"\"\n",
    "Q1 - List all the tools you might use as web developer\n",
    "\"\"\""
   ]
  },
  {
   "cell_type": "code",
   "execution_count": 2,
   "id": "35a982ec-57a0-4259-b602-ebc43da93a27",
   "metadata": {},
   "outputs": [
    {
     "data": {
      "text/plain": [
       "\"\\nans- The term “web development tools” refers to software and apps that provide web developers with the ability to debug and test the code and interface of the website or application they're creating.some of these are\\n     -Sublime Text.\\n     -Chrome Developer Tools.\\n     -jQuery.\\n     -GitHub.\\n     -CodePen.\\n     -Angular.\\n     -Sass.\\n\""
      ]
     },
     "execution_count": 2,
     "metadata": {},
     "output_type": "execute_result"
    }
   ],
   "source": [
    "\"\"\"\n",
    "ans- The term “web development tools” refers to software and apps that provide web developers with the ability to debug and test the code and interface of the website or application they're creating.some of these are\n",
    "     -Sublime Text.\n",
    "     -Chrome Developer Tools.\n",
    "     -jQuery.\n",
    "     -GitHub.\n",
    "     -CodePen.\n",
    "     -Angular.\n",
    "     -Sass.\n",
    "\"\"\""
   ]
  },
  {
   "cell_type": "code",
   "execution_count": 3,
   "id": "4af5a1eb-47a5-4352-a294-92296b5d4446",
   "metadata": {},
   "outputs": [
    {
     "data": {
      "text/plain": [
       "'\\nWhat are some of the features of PW Skills Online Lab? Explain how they are useful.\\n'"
      ]
     },
     "execution_count": 3,
     "metadata": {},
     "output_type": "execute_result"
    }
   ],
   "source": [
    "\"\"\"\n",
    "What are some of the features of PW Skills Online Lab? Explain how they are useful.\n",
    "\"\"\""
   ]
  },
  {
   "cell_type": "code",
   "execution_count": 4,
   "id": "4df9ad0d-9f01-4753-aa4d-1902260f5b80",
   "metadata": {},
   "outputs": [
    {
     "data": {
      "text/plain": [
       "'\\nans- pw skill lab consist of multi language lab through which we can learn different coding languages.it provides a better environment to code.\\n'"
      ]
     },
     "execution_count": 4,
     "metadata": {},
     "output_type": "execute_result"
    }
   ],
   "source": [
    "\"\"\"\n",
    "ans- pw skill lab consist of multi language lab through which we can learn different coding languages.it provides a better environment to code.\n",
    "\"\"\""
   ]
  },
  {
   "cell_type": "code",
   "execution_count": null,
   "id": "eb619a74-f6f8-447e-9bc8-561a9058bd24",
   "metadata": {},
   "outputs": [],
   "source": []
  }
 ],
 "metadata": {
  "kernelspec": {
   "display_name": "Python 3 (ipykernel)",
   "language": "python",
   "name": "python3"
  },
  "language_info": {
   "codemirror_mode": {
    "name": "ipython",
    "version": 3
   },
   "file_extension": ".py",
   "mimetype": "text/x-python",
   "name": "python",
   "nbconvert_exporter": "python",
   "pygments_lexer": "ipython3",
   "version": "3.10.8"
  }
 },
 "nbformat": 4,
 "nbformat_minor": 5
}
